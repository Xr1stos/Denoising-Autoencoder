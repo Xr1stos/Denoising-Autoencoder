{
 "cells": [
  {
   "cell_type": "code",
   "execution_count": 1,
   "metadata": {},
   "outputs": [
    {
     "name": "stderr",
     "output_type": "stream",
     "text": [
      "Using TensorFlow backend.\n"
     ]
    }
   ],
   "source": [
    "import pandas as pd\n",
    "import numpy as np\n",
    "import pickle\n",
    "import matplotlib.pyplot as plt\n",
    "from scipy import stats\n",
    "import tensorflow as tf\n",
    "from keras.optimizers import SGD\n",
    "import seaborn as sns\n",
    "from pylab import rcParams\n",
    "from sklearn.model_selection import train_test_split\n",
    "from keras.models import Model, load_model\n",
    "from keras.layers import Input, Dense,Dropout\n",
    "from keras.callbacks import ModelCheckpoint, TensorBoard,EarlyStopping\n",
    "from keras.regularizers import l1,l2\n",
    "import math\n",
    "from sklearn.metrics import mean_absolute_error,mean_squared_error\n",
    "import keras\n",
    "import random\n",
    "from numba import cuda\n",
    "\n",
    "random.seed(34)\n",
    "\n",
    "%matplotlib inline\n",
    "\n",
    "\n",
    "sns.set(style='whitegrid', palette='muted', font_scale=1.5)\n",
    "rcParams['figure.figsize'] = 14,14\n",
    "RANDOM_SEED = 42\n"
   ]
  },
  {
   "cell_type": "code",
   "execution_count": 2,
   "metadata": {},
   "outputs": [],
   "source": [
    "from keras import backend as k\n",
    "\n",
    "# TensorFlow wizardry\n",
    "config = tf.ConfigProto()\n",
    " \n",
    "# Don't pre-allocate memory; allocate as-needed\n",
    "config.gpu_options.allow_growth = True\n",
    " \n",
    "# Only allow a total of half the GPU memory to be allocated\n",
    "config.gpu_options.per_process_gpu_memory_fraction = 0.5\n",
    " \n",
    "# Create a session with the above options specified.\n",
    "k.tensorflow_backend.set_session(tf.Session(config=config))\n",
    "###################################"
   ]
  },
  {
   "cell_type": "code",
   "execution_count": 3,
   "metadata": {},
   "outputs": [],
   "source": [
    "def metrics(X_filled,X_original):\n",
    "    \n",
    "    rmse = math.sqrt(((X_filled - X_original) ** 2).mean())\n",
    "    mae= mean_absolute_error(X_filled , X_original)\n",
    "    \n",
    "    return rmse,mae"
   ]
  },
  {
   "cell_type": "code",
   "execution_count": 4,
   "metadata": {},
   "outputs": [],
   "source": [
    "#original : complete dataset             DATASET 1, use to score predictions\n",
    "#df_miss  : missing values dataset       DAtASET 2, use for predictions\n",
    "\n",
    "original=pd.read_csv(\"./data/pro_act_2_A_clean.csv\")\n",
    "df_miss=pd.read_csv(\"./data/pro_act2_A_p0.1.csv\")\n",
    "df_missing_mask = np.isnan(df_miss)"
   ]
  },
  {
   "cell_type": "code",
   "execution_count": 5,
   "metadata": {},
   "outputs": [],
   "source": [
    "# find indices of nans\n",
    "a=np.argwhere(np.isnan(df_miss.values))\n",
    "b=[tuple(i)for i in a]"
   ]
  },
  {
   "cell_type": "code",
   "execution_count": 6,
   "metadata": {},
   "outputs": [],
   "source": [
    "# get random indices to make new nans\n",
    "\n",
    "pairs1=[]\n",
    "for i in range(int(0.25*df_miss.shape[1]*df_miss.shape[0])):\n",
    "    random_x = random.randrange(df_miss.shape[0]) \n",
    "    random_y = random.randrange(df_miss.shape[1]) \n",
    "    pairs1.append((random_x,random_y))"
   ]
  },
  {
   "cell_type": "code",
   "execution_count": 7,
   "metadata": {},
   "outputs": [],
   "source": [
    "# exclude indices that are nan already and duplicates\n",
    "# final indices to make nans\n",
    "\n",
    "res1 = list(set(pairs1)-set(b))\n"
   ]
  },
  {
   "cell_type": "code",
   "execution_count": 8,
   "metadata": {},
   "outputs": [
    {
     "name": "stdout",
     "output_type": "stream",
     "text": [
      "50697\n",
      "126743\n",
      "100832\n"
     ]
    }
   ],
   "source": [
    "print(len(b))\n",
    "print(len(pairs1))\n",
    "print(len(res1))"
   ]
  },
  {
   "cell_type": "code",
   "execution_count": 9,
   "metadata": {},
   "outputs": [
    {
     "name": "stdout",
     "output_type": "stream",
     "text": [
      "50697\n",
      "126743\n",
      "101061\n"
     ]
    }
   ],
   "source": [
    "# get random indices to make new nans\n",
    "random.seed(33)\n",
    "\n",
    "pairs2=[]\n",
    "for i in range(int(0.25*df_miss.shape[1]*df_miss.shape[0])):\n",
    "    random_x = random.randrange(df_miss.shape[0]) \n",
    "    random_y = random.randrange(df_miss.shape[1]) \n",
    "    pairs2.append((random_x,random_y))\n",
    "    \n",
    "res2 = list(set(pairs2)-set(b))\n",
    "\n",
    "print(len(b))\n",
    "print(len(pairs2))\n",
    "print(len(res2))"
   ]
  },
  {
   "cell_type": "code",
   "execution_count": 10,
   "metadata": {},
   "outputs": [
    {
     "name": "stdout",
     "output_type": "stream",
     "text": [
      "50697\n",
      "126743\n",
      "100900\n"
     ]
    }
   ],
   "source": [
    "# get random indices to make new nans\n",
    "random.seed(345)\n",
    "\n",
    "pairs3=[]\n",
    "for i in range(int(0.25*df_miss.shape[1]*df_miss.shape[0])):\n",
    "    random_x = random.randrange(df_miss.shape[0]) \n",
    "    random_y = random.randrange(df_miss.shape[1]) \n",
    "    pairs3.append((random_x,random_y))\n",
    "    \n",
    "res3 = list(set(pairs3)-set(b))\n",
    "\n",
    "print(len(b))\n",
    "print(len(pairs3))\n",
    "print(len(res3))"
   ]
  },
  {
   "cell_type": "code",
   "execution_count": 11,
   "metadata": {},
   "outputs": [
    {
     "name": "stdout",
     "output_type": "stream",
     "text": [
      "50697\n",
      "126743\n",
      "100844\n"
     ]
    }
   ],
   "source": [
    "# get random indices to make new nans\n",
    "random.seed(45747)\n",
    "\n",
    "pairs4=[]\n",
    "for i in range(int(0.25*df_miss.shape[1]*df_miss.shape[0])):\n",
    "    random_x = random.randrange(df_miss.shape[0]) \n",
    "    random_y = random.randrange(df_miss.shape[1]) \n",
    "    pairs4.append((random_x,random_y))\n",
    "    \n",
    "res4 = list(set(pairs4)-set(b))\n",
    "\n",
    "print(len(b))\n",
    "print(len(pairs4))\n",
    "print(len(res4))"
   ]
  },
  {
   "cell_type": "code",
   "execution_count": 12,
   "metadata": {},
   "outputs": [],
   "source": [
    "#df_ground  : new complete dataset filled with mean   DATASET 3, use to compute loss of DAE\n",
    "\n",
    "df_ground=df_miss.fillna(df_miss.mean())"
   ]
  },
  {
   "cell_type": "code",
   "execution_count": 13,
   "metadata": {},
   "outputs": [],
   "source": [
    "#df_train   : new missing values dataset              DATASET 4, use to feed and train DAE\n",
    "\n",
    "df_train2=df_ground.copy()\n",
    "for coo in pairs2:\n",
    "    df_train2.iloc[coo[0],coo[1]]=np.nan\n",
    "    \n",
    "#df_train   : new missing values dataset              DATASET 4, use to feed and train DAE\n",
    "\n",
    "df_train1=df_ground.copy()\n",
    "for coo in pairs1:\n",
    "    df_train1.iloc[coo[0],coo[1]]=np.nan\n",
    "    \n",
    "df_train=pd.concat([df_train1, df_train2],axis=0)\n",
    "\n",
    "#df_train   : new missing values dataset              DATASET 4, use to feed and train DAE\n",
    "\n",
    "df_train3=df_ground.copy()\n",
    "for coo in pairs3:\n",
    "    df_train3.iloc[coo[0],coo[1]]=np.nan\n",
    "    \n",
    "df_train=pd.concat([df_train, df_train3],axis=0)\n",
    "\n",
    "#df_train   : new missing values dataset              DATASET 4, use to feed and train DAE\n",
    "\n",
    "df_train4=df_ground.copy()\n",
    "for coo in pairs4:\n",
    "    df_train4.iloc[coo[0],coo[1]]=np.nan\n",
    "    \n",
    "df_train=pd.concat([df_train, df_train4],axis=0)"
   ]
  },
  {
   "cell_type": "code",
   "execution_count": 14,
   "metadata": {},
   "outputs": [
    {
     "data": {
      "text/plain": [
       "(57940, 35)"
      ]
     },
     "execution_count": 14,
     "metadata": {},
     "output_type": "execute_result"
    }
   ],
   "source": [
    "\n",
    "df_train.shape"
   ]
  },
  {
   "cell_type": "code",
   "execution_count": null,
   "metadata": {},
   "outputs": [],
   "source": []
  },
  {
   "cell_type": "code",
   "execution_count": 15,
   "metadata": {},
   "outputs": [],
   "source": [
    "miss=df_train\n",
    "comp=pd.concat([df_ground,df_ground,df_ground,df_ground],axis=0)\n",
    "missing_mask = np.isnan(miss)"
   ]
  },
  {
   "cell_type": "code",
   "execution_count": 16,
   "metadata": {},
   "outputs": [
    {
     "data": {
      "text/plain": [
       "True"
      ]
     },
     "execution_count": 16,
     "metadata": {},
     "output_type": "execute_result"
    }
   ],
   "source": [
    "miss.isnull().values.any()\n"
   ]
  },
  {
   "cell_type": "code",
   "execution_count": 17,
   "metadata": {},
   "outputs": [],
   "source": [
    "#missa=miss.fillna(miss.mean())\n",
    "#missa=miss.fillna(value=0)\n",
    "missa=miss.fillna(value=-9)"
   ]
  },
  {
   "cell_type": "code",
   "execution_count": 18,
   "metadata": {},
   "outputs": [],
   "source": [
    "out_train, out_test,in_train,in_test = train_test_split(comp,missa, test_size=0.3, random_state=1)\n"
   ]
  },
  {
   "cell_type": "code",
   "execution_count": 19,
   "metadata": {},
   "outputs": [],
   "source": [
    "early=keras.callbacks.EarlyStopping(monitor='val_loss',\n",
    "                              min_delta=0,\n",
    "                              patience=20,\n",
    "                              verbose=0, mode='auto',restore_best_weights=True)"
   ]
  },
  {
   "cell_type": "code",
   "execution_count": 20,
   "metadata": {},
   "outputs": [],
   "source": [
    "ad = keras.optimizers.Adam(lr=0.0005)\n"
   ]
  },
  {
   "cell_type": "code",
   "execution_count": 21,
   "metadata": {},
   "outputs": [
    {
     "name": "stdout",
     "output_type": "stream",
     "text": [
      "_________________________________________________________________\n",
      "Layer (type)                 Output Shape              Param #   \n",
      "=================================================================\n",
      "input_1 (InputLayer)         (None, 35)                0         \n",
      "_________________________________________________________________\n",
      "dense_1 (Dense)              (None, 25)                900       \n",
      "_________________________________________________________________\n",
      "dense_2 (Dense)              (None, 15)                390       \n",
      "_________________________________________________________________\n",
      "dense_3 (Dense)              (None, 11)                176       \n",
      "_________________________________________________________________\n",
      "dense_4 (Dense)              (None, 15)                180       \n",
      "_________________________________________________________________\n",
      "dense_5 (Dense)              (None, 25)                400       \n",
      "_________________________________________________________________\n",
      "dense_6 (Dense)              (None, 35)                910       \n",
      "=================================================================\n",
      "Total params: 2,956\n",
      "Trainable params: 2,956\n",
      "Non-trainable params: 0\n",
      "_________________________________________________________________\n"
     ]
    }
   ],
   "source": [
    "input = Input(shape=(35,))\n",
    "encoded = Dense(25, activation='relu')(input)\n",
    "encoded = Dense(15, activation='relu')(encoded)\n",
    "\n",
    "encoded = Dense(11, activation='relu')(encoded)\n",
    "\n",
    "decoded=  Dense(15, activation='relu')(encoded)\n",
    "\n",
    "decoded=  Dense(25, activation='relu')(decoded)\n",
    "decoded = Dense(35, activation='linear')(decoded)\n",
    "\n",
    "autoencoder = Model(input, decoded)\n",
    "\n",
    "autoencoder.compile(optimizer=ad, loss='mse')\n",
    "autoencoder.summary()\n"
   ]
  },
  {
   "cell_type": "code",
   "execution_count": 22,
   "metadata": {},
   "outputs": [
    {
     "name": "stdout",
     "output_type": "stream",
     "text": [
      "Train on 40558 samples, validate on 17382 samples\n",
      "Epoch 1/5000\n",
      "40558/40558 [==============================] - 7s 163us/step - loss: 81780.6454 - val_loss: 8198.8437\n",
      "Epoch 2/5000\n",
      "40558/40558 [==============================] - 5s 127us/step - loss: 7521.1792 - val_loss: 7153.5329\n",
      "Epoch 3/5000\n",
      "40558/40558 [==============================] - 5s 128us/step - loss: 6396.7579 - val_loss: 5524.8265\n",
      "Epoch 4/5000\n",
      "40558/40558 [==============================] - 5s 131us/step - loss: 5073.4704 - val_loss: 4782.5125\n",
      "Epoch 5/5000\n",
      "40558/40558 [==============================] - 5s 130us/step - loss: 4061.1858 - val_loss: 3374.5066\n",
      "Epoch 6/5000\n",
      "40558/40558 [==============================] - 5s 130us/step - loss: 2782.3405 - val_loss: 2511.8095\n",
      "Epoch 7/5000\n",
      "40558/40558 [==============================] - 5s 130us/step - loss: 2324.5695 - val_loss: 2267.5758\n",
      "Epoch 8/5000\n",
      "40558/40558 [==============================] - 5s 131us/step - loss: 2161.2221 - val_loss: 2155.6718\n",
      "Epoch 9/5000\n",
      "40558/40558 [==============================] - 5s 130us/step - loss: 2066.6751 - val_loss: 2110.7782\n",
      "Epoch 10/5000\n",
      "40558/40558 [==============================] - 5s 129us/step - loss: 1987.3776 - val_loss: 2034.2226\n",
      "Epoch 11/5000\n",
      "40558/40558 [==============================] - 5s 130us/step - loss: 1929.0577 - val_loss: 1981.0121\n",
      "Epoch 12/5000\n",
      "40558/40558 [==============================] - 5s 131us/step - loss: 1869.1998 - val_loss: 1990.2107\n",
      "Epoch 13/5000\n",
      "40558/40558 [==============================] - 5s 132us/step - loss: 1825.6591 - val_loss: 1879.7733\n",
      "Epoch 14/5000\n",
      "40558/40558 [==============================] - 5s 132us/step - loss: 1796.9934 - val_loss: 2015.0618\n",
      "Epoch 15/5000\n",
      "40558/40558 [==============================] - 5s 134us/step - loss: 1764.2270 - val_loss: 1877.6545\n",
      "Epoch 16/5000\n",
      "40558/40558 [==============================] - 5s 133us/step - loss: 1711.3920 - val_loss: 1770.5226\n",
      "Epoch 17/5000\n",
      "40558/40558 [==============================] - 5s 133us/step - loss: 1679.5843 - val_loss: 1790.2550\n",
      "Epoch 18/5000\n",
      "40558/40558 [==============================] - 5s 134us/step - loss: 1653.4930 - val_loss: 1740.4148\n",
      "Epoch 19/5000\n",
      "40558/40558 [==============================] - 6s 139us/step - loss: 1627.2614 - val_loss: 1681.6570\n",
      "Epoch 20/5000\n",
      "40558/40558 [==============================] - 6s 140us/step - loss: 1595.8660 - val_loss: 1635.2094\n",
      "Epoch 21/5000\n",
      "40558/40558 [==============================] - 5s 133us/step - loss: 1573.8509 - val_loss: 1607.5174\n",
      "Epoch 22/5000\n",
      "40558/40558 [==============================] - 5s 134us/step - loss: 1558.3715 - val_loss: 1668.9816\n",
      "Epoch 23/5000\n",
      "40558/40558 [==============================] - 5s 133us/step - loss: 1525.8827 - val_loss: 1606.1757\n",
      "Epoch 24/5000\n",
      "40558/40558 [==============================] - 5s 133us/step - loss: 1527.4128 - val_loss: 1583.2060\n",
      "Epoch 25/5000\n",
      "40558/40558 [==============================] - 5s 134us/step - loss: 1500.5996 - val_loss: 1549.4178\n",
      "Epoch 26/5000\n",
      "40558/40558 [==============================] - 5s 134us/step - loss: 1479.4844 - val_loss: 1531.8980\n",
      "Epoch 27/5000\n",
      "40558/40558 [==============================] - 5s 135us/step - loss: 1478.9776 - val_loss: 1531.4310\n",
      "Epoch 28/5000\n",
      "40558/40558 [==============================] - 5s 135us/step - loss: 1462.6165 - val_loss: 1471.0821\n",
      "Epoch 29/5000\n",
      "40558/40558 [==============================] - 6s 136us/step - loss: 1468.2988 - val_loss: 1504.5236\n",
      "Epoch 30/5000\n",
      "40558/40558 [==============================] - 5s 134us/step - loss: 1452.5810 - val_loss: 1518.8966\n",
      "Epoch 31/5000\n",
      "40558/40558 [==============================] - 6s 142us/step - loss: 1452.2037 - val_loss: 1563.5492\n",
      "Epoch 32/5000\n",
      "40558/40558 [==============================] - 5s 136us/step - loss: 1443.7404 - val_loss: 1481.3953\n",
      "Epoch 33/5000\n",
      "40558/40558 [==============================] - 6s 136us/step - loss: 1427.5140 - val_loss: 1515.3164\n",
      "Epoch 34/5000\n",
      "40558/40558 [==============================] - 6s 140us/step - loss: 1428.0811 - val_loss: 1720.1769\n",
      "Epoch 35/5000\n",
      "40558/40558 [==============================] - 6s 136us/step - loss: 1429.1276 - val_loss: 1438.6689\n",
      "Epoch 36/5000\n",
      "40558/40558 [==============================] - 6s 137us/step - loss: 1435.1702 - val_loss: 1481.2920\n",
      "Epoch 37/5000\n",
      "40558/40558 [==============================] - 6s 138us/step - loss: 1416.7681 - val_loss: 1477.4540\n",
      "Epoch 38/5000\n",
      "40558/40558 [==============================] - 6s 138us/step - loss: 1429.8645 - val_loss: 1462.9185\n",
      "Epoch 39/5000\n",
      "40558/40558 [==============================] - 5s 133us/step - loss: 1424.8460 - val_loss: 1689.0699\n",
      "Epoch 40/5000\n",
      "40558/40558 [==============================] - 5s 133us/step - loss: 1410.4183 - val_loss: 1451.6703\n",
      "Epoch 41/5000\n",
      "40558/40558 [==============================] - 5s 135us/step - loss: 1401.4338 - val_loss: 1517.8724\n",
      "Epoch 42/5000\n",
      "40558/40558 [==============================] - 6s 150us/step - loss: 1406.4039 - val_loss: 1455.8030\n",
      "Epoch 43/5000\n",
      "40558/40558 [==============================] - 6s 137us/step - loss: 1418.8010 - val_loss: 1491.0123\n",
      "Epoch 44/5000\n",
      "40558/40558 [==============================] - 6s 136us/step - loss: 1397.8233 - val_loss: 1678.9976\n",
      "Epoch 45/5000\n",
      "40558/40558 [==============================] - 5s 135us/step - loss: 1398.5459 - val_loss: 1544.6132\n",
      "Epoch 46/5000\n",
      "40558/40558 [==============================] - 6s 136us/step - loss: 1387.8394 - val_loss: 1579.2168\n",
      "Epoch 47/5000\n",
      "40558/40558 [==============================] - 6s 137us/step - loss: 1380.0497 - val_loss: 1434.8864\n",
      "Epoch 48/5000\n",
      "40558/40558 [==============================] - 6s 136us/step - loss: 1380.4032 - val_loss: 1472.0448\n",
      "Epoch 49/5000\n",
      "40558/40558 [==============================] - 6s 137us/step - loss: 1370.2078 - val_loss: 1419.8666\n",
      "Epoch 50/5000\n",
      "40558/40558 [==============================] - 6s 136us/step - loss: 1382.4190 - val_loss: 1456.5305\n",
      "Epoch 51/5000\n",
      "40558/40558 [==============================] - 6s 138us/step - loss: 1367.7468 - val_loss: 1451.5692\n",
      "Epoch 52/5000\n",
      "40558/40558 [==============================] - 6s 137us/step - loss: 1367.5684 - val_loss: 1401.4803\n",
      "Epoch 53/5000\n",
      "40558/40558 [==============================] - 5s 136us/step - loss: 1354.2996 - val_loss: 1447.2994\n",
      "Epoch 54/5000\n",
      "40558/40558 [==============================] - 6s 141us/step - loss: 1358.3008 - val_loss: 1406.9295\n",
      "Epoch 55/5000\n",
      "40558/40558 [==============================] - 6s 140us/step - loss: 1364.5079 - val_loss: 1411.0554\n",
      "Epoch 56/5000\n",
      "40558/40558 [==============================] - 6s 136us/step - loss: 1347.0806 - val_loss: 1606.1868\n",
      "Epoch 57/5000\n",
      "40558/40558 [==============================] - 5s 129us/step - loss: 1342.0990 - val_loss: 1394.2315\n",
      "Epoch 58/5000\n",
      "40558/40558 [==============================] - 5s 122us/step - loss: 1350.9998 - val_loss: 1481.8851\n",
      "Epoch 59/5000\n",
      "40558/40558 [==============================] - 5s 124us/step - loss: 1344.8546 - val_loss: 1965.3110\n",
      "Epoch 60/5000\n",
      "40558/40558 [==============================] - 5s 131us/step - loss: 1337.2948 - val_loss: 1467.0716\n",
      "Epoch 61/5000\n",
      "40558/40558 [==============================] - 6s 138us/step - loss: 1331.2775 - val_loss: 1420.7866\n",
      "Epoch 62/5000\n",
      "40558/40558 [==============================] - 5s 127us/step - loss: 1335.1804 - val_loss: 1361.4967\n",
      "Epoch 63/5000\n",
      "40558/40558 [==============================] - 6s 140us/step - loss: 1333.7440 - val_loss: 1631.4464\n",
      "Epoch 64/5000\n",
      "40558/40558 [==============================] - 6s 138us/step - loss: 1321.4432 - val_loss: 1371.0166\n",
      "Epoch 65/5000\n",
      "40558/40558 [==============================] - 6s 138us/step - loss: 1321.3532 - val_loss: 1368.2030\n",
      "Epoch 66/5000\n",
      "40558/40558 [==============================] - 6s 138us/step - loss: 1324.6148 - val_loss: 1454.1060\n",
      "Epoch 67/5000\n",
      "40558/40558 [==============================] - 6s 141us/step - loss: 1310.5151 - val_loss: 1392.4753\n",
      "Epoch 68/5000\n",
      "40558/40558 [==============================] - 6s 151us/step - loss: 1315.2298 - val_loss: 1474.3997\n",
      "Epoch 69/5000\n",
      "40558/40558 [==============================] - 5s 134us/step - loss: 1314.4140 - val_loss: 1389.6137\n",
      "Epoch 70/5000\n",
      "40558/40558 [==============================] - 5s 129us/step - loss: 1306.9174 - val_loss: 1430.4597\n",
      "Epoch 71/5000\n",
      "40558/40558 [==============================] - 5s 125us/step - loss: 1310.5701 - val_loss: 1377.1753\n"
     ]
    },
    {
     "name": "stdout",
     "output_type": "stream",
     "text": [
      "Epoch 72/5000\n",
      "40558/40558 [==============================] - 5s 134us/step - loss: 1314.0345 - val_loss: 1678.4553\n",
      "Epoch 73/5000\n",
      "40558/40558 [==============================] - 5s 128us/step - loss: 1309.8391 - val_loss: 1356.6201\n",
      "Epoch 74/5000\n",
      "40558/40558 [==============================] - 5s 128us/step - loss: 1301.7735 - val_loss: 1362.0770\n",
      "Epoch 75/5000\n",
      "40558/40558 [==============================] - 5s 130us/step - loss: 1301.4487 - val_loss: 1320.7871\n",
      "Epoch 76/5000\n",
      "40558/40558 [==============================] - 5s 131us/step - loss: 1301.6517 - val_loss: 1414.7293\n",
      "Epoch 77/5000\n",
      "40558/40558 [==============================] - 5s 128us/step - loss: 1302.1357 - val_loss: 1319.1251\n",
      "Epoch 78/5000\n",
      "40558/40558 [==============================] - 5s 128us/step - loss: 1281.4287 - val_loss: 1407.7844\n",
      "Epoch 79/5000\n",
      "40558/40558 [==============================] - 5s 128us/step - loss: 1289.3726 - val_loss: 1339.6931\n",
      "Epoch 80/5000\n",
      "40558/40558 [==============================] - 5s 128us/step - loss: 1279.7576 - val_loss: 1337.6510\n",
      "Epoch 81/5000\n",
      "40558/40558 [==============================] - 5s 131us/step - loss: 1287.8671 - val_loss: 1352.4735\n",
      "Epoch 82/5000\n",
      "40558/40558 [==============================] - 5s 128us/step - loss: 1285.2496 - val_loss: 1333.6742\n",
      "Epoch 83/5000\n",
      "40558/40558 [==============================] - 5s 128us/step - loss: 1279.1793 - val_loss: 1430.2010\n",
      "Epoch 84/5000\n",
      "40558/40558 [==============================] - 5s 130us/step - loss: 1279.1679 - val_loss: 1321.3274\n",
      "Epoch 85/5000\n",
      "40558/40558 [==============================] - 5s 130us/step - loss: 1265.2500 - val_loss: 1309.1069\n",
      "Epoch 86/5000\n",
      "40558/40558 [==============================] - 5s 133us/step - loss: 1274.2281 - val_loss: 1322.4591\n",
      "Epoch 87/5000\n",
      "40558/40558 [==============================] - 5s 131us/step - loss: 1262.3818 - val_loss: 1323.3987\n",
      "Epoch 88/5000\n",
      "40558/40558 [==============================] - 5s 132us/step - loss: 1262.5166 - val_loss: 1300.1897\n",
      "Epoch 89/5000\n",
      "40558/40558 [==============================] - 5s 134us/step - loss: 1266.1317 - val_loss: 1295.8516\n",
      "Epoch 90/5000\n",
      "40558/40558 [==============================] - 6s 138us/step - loss: 1256.4124 - val_loss: 1285.8134\n",
      "Epoch 91/5000\n",
      "40558/40558 [==============================] - 5s 133us/step - loss: 1253.9239 - val_loss: 1303.7489\n",
      "Epoch 92/5000\n",
      "40558/40558 [==============================] - 5s 132us/step - loss: 1250.4388 - val_loss: 1324.9680\n",
      "Epoch 93/5000\n",
      "40558/40558 [==============================] - 5s 134us/step - loss: 1250.9777 - val_loss: 1272.8371\n",
      "Epoch 94/5000\n",
      "40558/40558 [==============================] - 5s 134us/step - loss: 1241.5661 - val_loss: 1276.2331\n",
      "Epoch 95/5000\n",
      "40558/40558 [==============================] - 6s 136us/step - loss: 1232.8391 - val_loss: 1294.7857\n",
      "Epoch 96/5000\n",
      "40558/40558 [==============================] - 5s 126us/step - loss: 1241.3219 - val_loss: 1295.1045\n",
      "Epoch 97/5000\n",
      "40558/40558 [==============================] - 6s 146us/step - loss: 1225.5759 - val_loss: 1296.5107\n",
      "Epoch 98/5000\n",
      "40558/40558 [==============================] - 5s 122us/step - loss: 1239.3040 - val_loss: 1274.8628\n",
      "Epoch 99/5000\n",
      "40558/40558 [==============================] - 5s 127us/step - loss: 1230.3954 - val_loss: 1254.0392\n",
      "Epoch 100/5000\n",
      "40558/40558 [==============================] - 6s 156us/step - loss: 1221.5658 - val_loss: 1310.7208\n",
      "Epoch 101/5000\n",
      "40558/40558 [==============================] - 6s 136us/step - loss: 1234.9881 - val_loss: 1262.1100\n",
      "Epoch 102/5000\n",
      "40558/40558 [==============================] - 5s 123us/step - loss: 1221.6209 - val_loss: 1252.2759\n",
      "Epoch 103/5000\n",
      "40558/40558 [==============================] - 5s 121us/step - loss: 1225.9561 - val_loss: 1354.2832\n",
      "Epoch 104/5000\n",
      "40558/40558 [==============================] - 5s 121us/step - loss: 1213.9290 - val_loss: 1261.6920\n",
      "Epoch 105/5000\n",
      "40558/40558 [==============================] - 5s 119us/step - loss: 1220.7497 - val_loss: 1286.1367\n",
      "Epoch 106/5000\n",
      "40558/40558 [==============================] - 5s 121us/step - loss: 1212.9325 - val_loss: 1307.5509\n",
      "Epoch 107/5000\n",
      "40558/40558 [==============================] - 5s 120us/step - loss: 1221.7751 - val_loss: 1417.1378\n",
      "Epoch 108/5000\n",
      "40558/40558 [==============================] - 5s 122us/step - loss: 1210.3179 - val_loss: 1256.5976\n",
      "Epoch 109/5000\n",
      "40558/40558 [==============================] - 5s 124us/step - loss: 1207.2413 - val_loss: 1237.9076\n",
      "Epoch 110/5000\n",
      "40558/40558 [==============================] - 5s 120us/step - loss: 1211.9924 - val_loss: 1231.8968\n",
      "Epoch 111/5000\n",
      "40558/40558 [==============================] - 5s 120us/step - loss: 1207.0724 - val_loss: 1231.6312\n",
      "Epoch 112/5000\n",
      "40558/40558 [==============================] - 5s 123us/step - loss: 1203.8359 - val_loss: 1258.1222\n",
      "Epoch 113/5000\n",
      "40558/40558 [==============================] - 5s 125us/step - loss: 1208.9320 - val_loss: 1240.2882\n",
      "Epoch 114/5000\n",
      "40558/40558 [==============================] - 5s 121us/step - loss: 1199.1344 - val_loss: 1263.4126\n",
      "Epoch 115/5000\n",
      "40558/40558 [==============================] - 5s 122us/step - loss: 1203.2184 - val_loss: 1276.8640\n",
      "Epoch 116/5000\n",
      "40558/40558 [==============================] - 5s 126us/step - loss: 1204.3159 - val_loss: 1304.2489\n",
      "Epoch 117/5000\n",
      "40558/40558 [==============================] - 5s 123us/step - loss: 1200.1449 - val_loss: 1259.9377\n",
      "Epoch 118/5000\n",
      "40558/40558 [==============================] - 6s 137us/step - loss: 1191.5479 - val_loss: 1251.9860\n",
      "Epoch 119/5000\n",
      "40558/40558 [==============================] - 6s 137us/step - loss: 1198.6447 - val_loss: 1228.1474\n",
      "Epoch 120/5000\n",
      "40558/40558 [==============================] - 5s 135us/step - loss: 1196.4539 - val_loss: 1354.1927\n",
      "Epoch 121/5000\n",
      "40558/40558 [==============================] - 6s 138us/step - loss: 1192.4318 - val_loss: 1332.9399\n",
      "Epoch 122/5000\n",
      "40558/40558 [==============================] - 6s 136us/step - loss: 1195.9121 - val_loss: 1227.7972\n",
      "Epoch 123/5000\n",
      "40558/40558 [==============================] - 6s 136us/step - loss: 1188.3350 - val_loss: 1348.4912\n",
      "Epoch 124/5000\n",
      "40558/40558 [==============================] - 5s 135us/step - loss: 1196.3601 - val_loss: 1220.5690\n",
      "Epoch 125/5000\n",
      "40558/40558 [==============================] - 6s 137us/step - loss: 1195.8932 - val_loss: 1238.9417\n",
      "Epoch 126/5000\n",
      "40558/40558 [==============================] - 6s 137us/step - loss: 1180.2837 - val_loss: 1256.7852\n",
      "Epoch 127/5000\n",
      "40558/40558 [==============================] - 6s 136us/step - loss: 1184.4208 - val_loss: 1222.8487\n",
      "Epoch 128/5000\n",
      "40558/40558 [==============================] - 5s 134us/step - loss: 1188.4963 - val_loss: 1291.6751\n",
      "Epoch 129/5000\n",
      "40558/40558 [==============================] - 6s 136us/step - loss: 1185.6836 - val_loss: 1234.7601\n",
      "Epoch 130/5000\n",
      "40558/40558 [==============================] - 6s 139us/step - loss: 1183.8205 - val_loss: 1271.1099\n",
      "Epoch 131/5000\n",
      "40558/40558 [==============================] - 6s 137us/step - loss: 1192.6959 - val_loss: 1236.0349\n",
      "Epoch 132/5000\n",
      "40558/40558 [==============================] - 6s 142us/step - loss: 1180.5440 - val_loss: 1205.9969\n",
      "Epoch 133/5000\n",
      "40558/40558 [==============================] - 6s 138us/step - loss: 1174.8967 - val_loss: 1216.5973\n",
      "Epoch 134/5000\n",
      "40558/40558 [==============================] - 6s 138us/step - loss: 1183.1248 - val_loss: 1327.4849\n",
      "Epoch 135/5000\n",
      "40558/40558 [==============================] - 6s 137us/step - loss: 1178.6814 - val_loss: 1231.3824\n",
      "Epoch 136/5000\n",
      "40558/40558 [==============================] - 6s 138us/step - loss: 1171.6308 - val_loss: 1223.9641\n",
      "Epoch 137/5000\n",
      "40558/40558 [==============================] - 6s 137us/step - loss: 1177.3617 - val_loss: 1349.9050\n",
      "Epoch 138/5000\n",
      "40558/40558 [==============================] - 6s 136us/step - loss: 1172.8604 - val_loss: 1296.1362\n",
      "Epoch 139/5000\n",
      "40558/40558 [==============================] - 6s 137us/step - loss: 1178.3290 - val_loss: 1343.3739\n",
      "Epoch 140/5000\n",
      "40558/40558 [==============================] - 6s 138us/step - loss: 1176.2461 - val_loss: 1296.2061\n",
      "Epoch 141/5000\n",
      "40558/40558 [==============================] - 6s 137us/step - loss: 1172.7454 - val_loss: 1241.6584\n",
      "Epoch 142/5000\n",
      "40558/40558 [==============================] - 6s 137us/step - loss: 1167.0580 - val_loss: 1210.8079\n"
     ]
    },
    {
     "name": "stdout",
     "output_type": "stream",
     "text": [
      "Epoch 143/5000\n",
      "40558/40558 [==============================] - 5s 125us/step - loss: 1167.5653 - val_loss: 1208.9266\n",
      "Epoch 144/5000\n",
      "40558/40558 [==============================] - 6s 136us/step - loss: 1160.6324 - val_loss: 1268.1138\n",
      "Epoch 145/5000\n",
      "40558/40558 [==============================] - 6s 140us/step - loss: 1165.4675 - val_loss: 1258.7817\n",
      "Epoch 146/5000\n",
      "40558/40558 [==============================] - 6s 141us/step - loss: 1161.4014 - val_loss: 1198.8421\n",
      "Epoch 147/5000\n",
      "40558/40558 [==============================] - 5s 135us/step - loss: 1172.2791 - val_loss: 1241.2813\n",
      "Epoch 148/5000\n",
      "40558/40558 [==============================] - 6s 136us/step - loss: 1162.6194 - val_loss: 1213.6344\n",
      "Epoch 149/5000\n",
      "40558/40558 [==============================] - 5s 131us/step - loss: 1169.0547 - val_loss: 1244.2007\n",
      "Epoch 150/5000\n",
      "40558/40558 [==============================] - 5s 133us/step - loss: 1165.2330 - val_loss: 1208.9119\n",
      "Epoch 151/5000\n",
      "40558/40558 [==============================] - 5s 131us/step - loss: 1155.8501 - val_loss: 1182.0872\n",
      "Epoch 152/5000\n",
      "40558/40558 [==============================] - 5s 133us/step - loss: 1161.1626 - val_loss: 1229.0145\n",
      "Epoch 153/5000\n",
      "40558/40558 [==============================] - 5s 135us/step - loss: 1154.9682 - val_loss: 1205.9052\n",
      "Epoch 154/5000\n",
      "40558/40558 [==============================] - 5s 133us/step - loss: 1160.0453 - val_loss: 1202.2967\n",
      "Epoch 155/5000\n",
      "40558/40558 [==============================] - 5s 133us/step - loss: 1156.2435 - val_loss: 1186.4379\n",
      "Epoch 156/5000\n",
      "40558/40558 [==============================] - 5s 134us/step - loss: 1162.7647 - val_loss: 1294.0605\n",
      "Epoch 157/5000\n",
      "40558/40558 [==============================] - 6s 138us/step - loss: 1159.9253 - val_loss: 1218.6109\n",
      "Epoch 158/5000\n",
      "40558/40558 [==============================] - 6s 139us/step - loss: 1156.4886 - val_loss: 1238.6177\n",
      "Epoch 159/5000\n",
      "40558/40558 [==============================] - 6s 137us/step - loss: 1162.9746 - val_loss: 1251.3804\n",
      "Epoch 160/5000\n",
      "40558/40558 [==============================] - 5s 136us/step - loss: 1162.1654 - val_loss: 1256.7338\n",
      "Epoch 161/5000\n",
      "40558/40558 [==============================] - 6s 138us/step - loss: 1156.6323 - val_loss: 1273.0783\n",
      "Epoch 162/5000\n",
      "40558/40558 [==============================] - 5s 135us/step - loss: 1152.6940 - val_loss: 1217.8337\n",
      "Epoch 163/5000\n",
      "40558/40558 [==============================] - 6s 136us/step - loss: 1149.6177 - val_loss: 1211.6842\n",
      "Epoch 164/5000\n",
      "40558/40558 [==============================] - 6s 140us/step - loss: 1147.2789 - val_loss: 1202.3193\n",
      "Epoch 165/5000\n",
      "40558/40558 [==============================] - 5s 134us/step - loss: 1148.8371 - val_loss: 1185.8447\n",
      "Epoch 166/5000\n",
      "40558/40558 [==============================] - 6s 137us/step - loss: 1149.1969 - val_loss: 1190.5309\n",
      "Epoch 167/5000\n",
      "40558/40558 [==============================] - 6s 137us/step - loss: 1145.3822 - val_loss: 1244.7719\n",
      "Epoch 168/5000\n",
      "40558/40558 [==============================] - 5s 135us/step - loss: 1144.3906 - val_loss: 1332.2756\n",
      "Epoch 169/5000\n",
      "40558/40558 [==============================] - 5s 135us/step - loss: 1144.6642 - val_loss: 1181.6563\n",
      "Epoch 170/5000\n",
      "40558/40558 [==============================] - 6s 138us/step - loss: 1146.2363 - val_loss: 1244.7862\n",
      "Epoch 171/5000\n",
      "40558/40558 [==============================] - 6s 144us/step - loss: 1144.3401 - val_loss: 1229.4929\n",
      "Epoch 172/5000\n",
      "40558/40558 [==============================] - 6s 140us/step - loss: 1141.3695 - val_loss: 1237.8084\n",
      "Epoch 173/5000\n",
      "40558/40558 [==============================] - 6s 137us/step - loss: 1143.5840 - val_loss: 1179.6980\n",
      "Epoch 174/5000\n",
      "40558/40558 [==============================] - 5s 135us/step - loss: 1139.3518 - val_loss: 1291.3945\n",
      "Epoch 175/5000\n",
      "40558/40558 [==============================] - 6s 136us/step - loss: 1145.3649 - val_loss: 1262.5550\n",
      "Epoch 176/5000\n",
      "40558/40558 [==============================] - 6s 136us/step - loss: 1141.3713 - val_loss: 1189.4016\n",
      "Epoch 177/5000\n",
      "40558/40558 [==============================] - 6s 137us/step - loss: 1143.0782 - val_loss: 1198.6231\n",
      "Epoch 178/5000\n",
      "40558/40558 [==============================] - 5s 134us/step - loss: 1141.1824 - val_loss: 1198.5729\n",
      "Epoch 179/5000\n",
      "40558/40558 [==============================] - 6s 136us/step - loss: 1141.7622 - val_loss: 1285.1441\n",
      "Epoch 180/5000\n",
      "40558/40558 [==============================] - 5s 134us/step - loss: 1139.8018 - val_loss: 1295.7626\n",
      "Epoch 181/5000\n",
      "40558/40558 [==============================] - 6s 137us/step - loss: 1138.9345 - val_loss: 1186.6143\n",
      "Epoch 182/5000\n",
      "40558/40558 [==============================] - 5s 135us/step - loss: 1140.1542 - val_loss: 1226.2334\n",
      "Epoch 183/5000\n",
      "40558/40558 [==============================] - 5s 135us/step - loss: 1141.3233 - val_loss: 1201.3947\n",
      "Epoch 184/5000\n",
      "40558/40558 [==============================] - 6s 137us/step - loss: 1136.4305 - val_loss: 1200.6426\n",
      "Epoch 185/5000\n",
      "40558/40558 [==============================] - 6s 138us/step - loss: 1142.4725 - val_loss: 1187.2954\n",
      "Epoch 186/5000\n",
      "40558/40558 [==============================] - 6s 137us/step - loss: 1136.0350 - val_loss: 1189.8689\n",
      "Epoch 187/5000\n",
      "40558/40558 [==============================] - 6s 136us/step - loss: 1136.4256 - val_loss: 1242.1986\n",
      "Epoch 188/5000\n",
      "40558/40558 [==============================] - 6s 136us/step - loss: 1135.9565 - val_loss: 1241.6131\n",
      "Epoch 189/5000\n",
      "40558/40558 [==============================] - 5s 134us/step - loss: 1146.8580 - val_loss: 1301.4811\n",
      "Epoch 190/5000\n",
      "40558/40558 [==============================] - 6s 136us/step - loss: 1132.1085 - val_loss: 1226.9996\n",
      "Epoch 191/5000\n",
      "40558/40558 [==============================] - 6s 136us/step - loss: 1135.4511 - val_loss: 1190.9500\n",
      "Epoch 192/5000\n",
      "40558/40558 [==============================] - 6s 138us/step - loss: 1137.5785 - val_loss: 1232.8178\n",
      "Epoch 193/5000\n",
      "40558/40558 [==============================] - 6s 137us/step - loss: 1128.7589 - val_loss: 1228.7000\n"
     ]
    }
   ],
   "source": [
    "history=autoencoder.fit(in_train, out_train,\n",
    "                epochs=5000,\n",
    "                batch_size=32,\n",
    "                shuffle=True,\n",
    "                validation_data=(in_test, out_test),\n",
    "                       callbacks=[early])"
   ]
  },
  {
   "cell_type": "code",
   "execution_count": 23,
   "metadata": {
    "scrolled": false
   },
   "outputs": [
    {
     "data": {
      "image/png": "[encoded data removed]",
      "text/plain": [
       "<Figure size 432x288 with 1 Axes>"
      ]
     },
     "metadata": {
      "needs_background": "light"
     },
     "output_type": "display_data"
    }
   ],
   "source": [
    "plt.plot(history.history['loss'])\n",
    "plt.plot(history.history['val_loss'])\n",
    "plt.ylim( 0,4000)\n",
    "plt.title('model loss')\n",
    "plt.ylabel('loss')\n",
    "plt.xlabel('epoch')\n",
    "plt.legend(['train', 'test'], loc='upper right');"
   ]
  },
  {
   "cell_type": "code",
   "execution_count": 24,
   "metadata": {},
   "outputs": [],
   "source": [
    "#df_missa=df_miss.fillna(df_miss.mean())\n",
    "#df_missa=df_miss.fillna(value=0)\n",
    "df_missa=df_miss.fillna(value=-9)\n"
   ]
  },
  {
   "cell_type": "code",
   "execution_count": 25,
   "metadata": {},
   "outputs": [],
   "source": [
    "ae=autoencoder.predict(df_missa)\n"
   ]
  },
  {
   "cell_type": "code",
   "execution_count": 26,
   "metadata": {},
   "outputs": [],
   "source": [
    "df_miss[df_miss.isnull()] =ae\n"
   ]
  },
  {
   "cell_type": "code",
   "execution_count": 27,
   "metadata": {},
   "outputs": [
    {
     "data": {
      "text/plain": [
       "(63.85132663254028, 15.886098117043106)"
      ]
     },
     "execution_count": 27,
     "metadata": {},
     "output_type": "execute_result"
    }
   ],
   "source": [
    "metrics(df_miss.values[df_missing_mask],original.values[df_missing_mask])"
   ]
  },
  {
   "cell_type": "code",
   "execution_count": 28,
   "metadata": {},
   "outputs": [],
   "source": [
    "cuda.select_device(0)\n",
    "cuda.close()"
   ]
  },
  {
   "cell_type": "code",
   "execution_count": null,
   "metadata": {},
   "outputs": [],
   "source": []
  }
 ],
 "metadata": {
  "kernelspec": {
   "display_name": "Python 3",
   "language": "python",
   "name": "python3"
  },
  "language_info": {
   "codemirror_mode": {
    "name": "ipython",
    "version": 3
   },
   "file_extension": ".py",
   "mimetype": "text/x-python",
   "name": "python",
   "nbconvert_exporter": "python",
   "pygments_lexer": "ipython3",
   "version": "3.8.5"
  }
 },
 "nbformat": 4,
 "nbformat_minor": 2
}
